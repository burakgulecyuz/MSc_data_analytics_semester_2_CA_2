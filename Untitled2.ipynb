{
 "cells": [
  {
   "cell_type": "code",
   "execution_count": 80,
   "id": "d3c95b0b",
   "metadata": {},
   "outputs": [],
   "source": [
    "from pyspark.sql import SparkSession\n",
    "\n",
    "spark = SparkSession.builder \\\n",
    "    .appName(\"HDFSToSpark\") \\\n",
    "    .getOrCreate()\n"
   ]
  },
  {
   "cell_type": "code",
   "execution_count": 81,
   "id": "116c7166",
   "metadata": {},
   "outputs": [
    {
     "name": "stderr",
     "output_type": "stream",
     "text": [
      "                                                                                \r"
     ]
    }
   ],
   "source": [
    "hdfs_path = \"hdfs:///user/ProjectTweets.csv\"  # HDFS'deki dosyanın yolunu belirtin\n",
    "\n",
    "df = spark.read.csv(hdfs_path, header=True, inferSchema=True)\n",
    "\n"
   ]
  },
  {
   "cell_type": "code",
   "execution_count": 90,
   "id": "8d373b81",
   "metadata": {},
   "outputs": [
    {
     "name": "stdout",
     "output_type": "stream",
     "text": [
      "+---+----------+----------+--------+---------------+--------------------+\n",
      "|  0|       ids|      date|    flag|           user|                text|\n",
      "+---+----------+----------+--------+---------------+--------------------+\n",
      "|  1|1467810672|07/04/2009|NO_QUERY|  scotthamilton|is upset that he ...|\n",
      "|  2|1467810917|07/04/2009|NO_QUERY|       mattycus|@Kenichan I dived...|\n",
      "|  3|1467811184|07/04/2009|NO_QUERY|        ElleCTF|my whole body fee...|\n",
      "|  4|1467811193|07/04/2009|NO_QUERY|         Karoli|@nationwideclass ...|\n",
      "|  5|1467811372|07/04/2009|NO_QUERY|       joy_wolf|@Kwesidei not the...|\n",
      "|  6|1467811592|07/04/2009|NO_QUERY|        mybirch|         Need a hug |\n",
      "|  7|1467811594|07/04/2009|NO_QUERY|           coZZ|@LOLTrish hey  lo...|\n",
      "|  8|1467811795|07/04/2009|NO_QUERY|2Hood4Hollywood|@Tatiana_K nope t...|\n",
      "|  9|1467812025|07/04/2009|NO_QUERY|        mimismo|@twittera que me ...|\n",
      "| 10|1467812416|07/04/2009|NO_QUERY| erinx3leannexo|spring break in p...|\n",
      "| 11|1467812579|07/04/2009|NO_QUERY|   pardonlauren|I just re-pierced...|\n",
      "| 12|1467812723|07/04/2009|NO_QUERY|           TLeC|@caregiving I cou...|\n",
      "| 13|1467812771|07/04/2009|NO_QUERY|robrobbierobert|@octolinz16 It it...|\n",
      "| 14|1467812784|07/04/2009|NO_QUERY|    bayofwolves|@smarrison i woul...|\n",
      "| 15|1467812799|07/04/2009|NO_QUERY|     HairByJess|@iamjazzyfizzle I...|\n",
      "| 16|1467812964|07/04/2009|NO_QUERY| lovesongwriter|Hollis' death sce...|\n",
      "| 17|1467813137|07/04/2009|NO_QUERY|       armotley|about to file taxes |\n",
      "| 18|1467813579|07/04/2009|NO_QUERY|     starkissed|@LettyA ahh ive a...|\n",
      "| 19|1467813782|07/04/2009|NO_QUERY|      gi_gi_bee|@FakerPattyPattz ...|\n",
      "| 20|1467813985|07/04/2009|NO_QUERY|         quanvu|@alydesigns i was...|\n",
      "+---+----------+----------+--------+---------------+--------------------+\n",
      "only showing top 20 rows\n",
      "\n"
     ]
    }
   ],
   "source": [
    "df.show()"
   ]
  },
  {
   "cell_type": "code",
   "execution_count": 83,
   "id": "166013b2",
   "metadata": {},
   "outputs": [
    {
     "name": "stdout",
     "output_type": "stream",
     "text": [
      "+---+----------+--------------------+--------+---------------+--------------------+\n",
      "|  0|       ids|                date|    flag|           user|                text|\n",
      "+---+----------+--------------------+--------+---------------+--------------------+\n",
      "|  1|1467810672|Mon Apr 06 22:19:...|NO_QUERY|  scotthamilton|is upset that he ...|\n",
      "|  2|1467810917|Mon Apr 06 22:19:...|NO_QUERY|       mattycus|@Kenichan I dived...|\n",
      "|  3|1467811184|Mon Apr 06 22:19:...|NO_QUERY|        ElleCTF|my whole body fee...|\n",
      "|  4|1467811193|Mon Apr 06 22:19:...|NO_QUERY|         Karoli|@nationwideclass ...|\n",
      "|  5|1467811372|Mon Apr 06 22:20:...|NO_QUERY|       joy_wolf|@Kwesidei not the...|\n",
      "|  6|1467811592|Mon Apr 06 22:20:...|NO_QUERY|        mybirch|         Need a hug |\n",
      "|  7|1467811594|Mon Apr 06 22:20:...|NO_QUERY|           coZZ|@LOLTrish hey  lo...|\n",
      "|  8|1467811795|Mon Apr 06 22:20:...|NO_QUERY|2Hood4Hollywood|@Tatiana_K nope t...|\n",
      "|  9|1467812025|Mon Apr 06 22:20:...|NO_QUERY|        mimismo|@twittera que me ...|\n",
      "| 10|1467812416|Mon Apr 06 22:20:...|NO_QUERY| erinx3leannexo|spring break in p...|\n",
      "| 11|1467812579|Mon Apr 06 22:20:...|NO_QUERY|   pardonlauren|I just re-pierced...|\n",
      "| 12|1467812723|Mon Apr 06 22:20:...|NO_QUERY|           TLeC|@caregiving I cou...|\n",
      "| 13|1467812771|Mon Apr 06 22:20:...|NO_QUERY|robrobbierobert|@octolinz16 It it...|\n",
      "| 14|1467812784|Mon Apr 06 22:20:...|NO_QUERY|    bayofwolves|@smarrison i woul...|\n",
      "| 15|1467812799|Mon Apr 06 22:20:...|NO_QUERY|     HairByJess|@iamjazzyfizzle I...|\n",
      "| 16|1467812964|Mon Apr 06 22:20:...|NO_QUERY| lovesongwriter|Hollis' death sce...|\n",
      "| 17|1467813137|Mon Apr 06 22:20:...|NO_QUERY|       armotley|about to file taxes |\n",
      "| 18|1467813579|Mon Apr 06 22:20:...|NO_QUERY|     starkissed|@LettyA ahh ive a...|\n",
      "| 19|1467813782|Mon Apr 06 22:20:...|NO_QUERY|      gi_gi_bee|@FakerPattyPattz ...|\n",
      "| 20|1467813985|Mon Apr 06 22:20:...|NO_QUERY|         quanvu|@alydesigns i was...|\n",
      "+---+----------+--------------------+--------+---------------+--------------------+\n",
      "only showing top 20 rows\n",
      "\n"
     ]
    }
   ],
   "source": [
    "# Sütun başlıklarını tanımlayın\n",
    "new_columns = [\"ids\", \"date\", \"flag\", \"user\", \"text\"]\n",
    "\n",
    "# Mevcut veri çerçevesinin sütun adlarını güncelleyin\n",
    "for i, column_name in enumerate(new_columns):\n",
    "    df = df.withColumnRenamed(df.columns[i + 1], column_name)\n",
    "\n",
    "# DataFrame'i gösterin\n",
    "df.show()"
   ]
  },
  {
   "cell_type": "code",
   "execution_count": 89,
   "id": "bb571162",
   "metadata": {},
   "outputs": [
    {
     "name": "stderr",
     "output_type": "stream",
     "text": [
      "\r",
      "[Stage 65:>                                                         (0 + 2) / 2]\r"
     ]
    },
    {
     "name": "stdout",
     "output_type": "stream",
     "text": [
      "Toplam Satır Sayısı: 1599999\n"
     ]
    },
    {
     "name": "stderr",
     "output_type": "stream",
     "text": [
      "\r",
      "                                                                                \r"
     ]
    }
   ],
   "source": [
    "# PySpark DataFrame'deki toplam satır sayısını alın\n",
    "row_count = df.count()\n",
    "\n",
    "# Sonucu yazdırın\n",
    "print(\"Toplam Satır Sayısı:\", row_count)\n"
   ]
  },
  {
   "cell_type": "code",
   "execution_count": 85,
   "id": "7f021f75",
   "metadata": {},
   "outputs": [],
   "source": [
    "spark.conf.set(\"spark.sql.legacy.timeParserPolicy\", \"LEGACY\")\n"
   ]
  },
  {
   "cell_type": "code",
   "execution_count": 88,
   "id": "80ada21f",
   "metadata": {},
   "outputs": [
    {
     "name": "stdout",
     "output_type": "stream",
     "text": [
      "+----------+\n",
      "|date      |\n",
      "+----------+\n",
      "|07/04/2009|\n",
      "|07/04/2009|\n",
      "|07/04/2009|\n",
      "|07/04/2009|\n",
      "|07/04/2009|\n",
      "+----------+\n",
      "only showing top 5 rows\n",
      "\n"
     ]
    }
   ],
   "source": [
    "# \"date\" sütununu alın\n",
    "date_column = df.select(\"date\")\n",
    "\n",
    "# Sonucu gösterin\n",
    "date_column.show(5, truncate=False)\n"
   ]
  },
  {
   "cell_type": "code",
   "execution_count": 92,
   "id": "41dd39bc",
   "metadata": {},
   "outputs": [
    {
     "name": "stdout",
     "output_type": "stream",
     "text": [
      "Sütun Adı: 0, Veri Türü: int\n",
      "Sütun Adı: ids, Veri Türü: bigint\n",
      "Sütun Adı: date, Veri Türü: string\n",
      "Sütun Adı: flag, Veri Türü: string\n",
      "Sütun Adı: user, Veri Türü: string\n",
      "Sütun Adı: text, Veri Türü: string\n"
     ]
    }
   ],
   "source": [
    "# Veri çerçevesinin sütun veri tiplerini alın\n",
    "column_data_types = df.dtypes\n",
    "\n",
    "# Sonuçları görüntüle\n",
    "for column_name, data_type in column_data_types:\n",
    "    print(f\"Sütun Adı: {column_name}, Veri Türü: {data_type}\")\n"
   ]
  },
  {
   "cell_type": "code",
   "execution_count": 87,
   "id": "504bf034",
   "metadata": {},
   "outputs": [],
   "source": [
    "from pyspark.sql.functions import to_date, date_format\n",
    "\n",
    "# \"date\" sütununu önce datetime veri türüne dönüştür\n",
    "df = df.withColumn(\"date\", to_date(df[\"date\"], \"EEE MMM dd HH:mm:ss zzz yyyy\"))\n",
    "\n",
    "# Dönüştürülmüş tarihi \"dd/MM/yyyy\" formatına dönüştür\n",
    "df = df.withColumn(\"date\", date_format(df[\"date\"], \"dd/MM/yyyy\"))\n"
   ]
  },
  {
   "cell_type": "code",
   "execution_count": 48,
   "id": "08a7a7a4",
   "metadata": {},
   "outputs": [],
   "source": [
    "from pyspark.sql.functions import col\n",
    "\n",
    "# Yıl, ay, gün, saat, dakika ve saniyeye göre sıralanmış bir sütun oluştur\n",
    "df = df.withColumn(\"timestamp\", col(\"date\").cast(\"timestamp\"))\n"
   ]
  },
  {
   "cell_type": "code",
   "execution_count": 52,
   "id": "f6b3f0b1",
   "metadata": {},
   "outputs": [],
   "source": [
    "from pyspark.sql.functions import window\n",
    "\n",
    "# Verileri belirli bir zaman periyoduna göre grupla ve topla\n",
    "df_grouped = df.groupBy(window(\"timestamp\", \"1 day\")).count()\n"
   ]
  },
  {
   "cell_type": "code",
   "execution_count": 69,
   "id": "61cdc8df",
   "metadata": {},
   "outputs": [
    {
     "name": "stderr",
     "output_type": "stream",
     "text": [
      "\r",
      "[Stage 46:>                                                         (0 + 2) / 2]\r"
     ]
    },
    {
     "name": "stdout",
     "output_type": "stream",
     "text": [
      "+------+----------+-------------------+--------+---------------+--------------------+\n",
      "|     0|       ids|               date|    flag|           user|                text|\n",
      "+------+----------+-------------------+--------+---------------+--------------------+\n",
      "|799999|2329205794|2009-06-25 18:28:31|NO_QUERY|     tpchandler|has to resit exam...|\n",
      "|799997|2329205473|2009-06-25 18:28:30|NO_QUERY|       LeeLHoke|rest in peace Far...|\n",
      "|799998|2329205574|2009-06-25 18:28:30|NO_QUERY|   davidlmulder|@Eric_Urbane Soun...|\n",
      "|799996|2329205038|2009-06-25 18:28:28|NO_QUERY|        bigenya|     Gmail is down? |\n",
      "|799994|2329204987|2009-06-25 18:28:28|NO_QUERY|      360cookie|Tried to get the ...|\n",
      "|799995|2329205009|2009-06-25 18:28:28|NO_QUERY|       dandykim|Sick  Spending my...|\n",
      "|799992|2329204790|2009-06-25 18:28:27|NO_QUERY|      CJROSE218|@koolgirl37 read ...|\n",
      "|799993|2329204835|2009-06-25 18:28:27|NO_QUERY|        mattfca|My life  http://m...|\n",
      "|799991|2329204705|2009-06-25 18:28:27|NO_QUERY|  loveisnothing|@iaintnohomo  Ban...|\n",
      "|799988|2329204559|2009-06-25 18:28:26|NO_QUERY|      court_lyn|Farrah Fawcett pa...|\n",
      "|799989|2329204621|2009-06-25 18:28:26|NO_QUERY|        catfuel|Just payed my WAY...|\n",
      "|799987|2329204554|2009-06-25 18:28:26|NO_QUERY|Christian12rock|R.I.P. Farrah God...|\n",
      "|799986|2329204524|2009-06-25 18:28:26|NO_QUERY| sugarysweet912|I feel so dumb be...|\n",
      "|799990|2329204651|2009-06-25 18:28:26|NO_QUERY|  Badmantalking|and I think it ha...|\n",
      "|799984|2329204298|2009-06-25 18:28:25|NO_QUERY|    Pauline1951|@ehasselbeck wtch...|\n",
      "|799985|2329204327|2009-06-25 18:28:25|NO_QUERY| mzcaramelfrapp|ugh, all my pics ...|\n",
      "|799983|2329204067|2009-06-25 18:28:24|NO_QUERY|    lisetteayon|@shelbytyszka hmm...|\n",
      "|799982|2329203761|2009-06-25 18:28:22|NO_QUERY|    i_loveyou09|I'm so sad I'm le...|\n",
      "|799981|2329203475|2009-06-25 18:28:21|NO_QUERY|  annelizaohara|i have nothing to...|\n",
      "|799979|2329203336|2009-06-25 18:28:21|NO_QUERY|  dailygluttony|Big lump in my th...|\n",
      "+------+----------+-------------------+--------+---------------+--------------------+\n",
      "only showing top 20 rows\n",
      "\n"
     ]
    },
    {
     "name": "stderr",
     "output_type": "stream",
     "text": [
      "\r",
      "[Stage 46:=============================>                            (1 + 1) / 2]\r",
      "\r",
      "                                                                                \r"
     ]
    }
   ],
   "source": [
    "df.show()"
   ]
  },
  {
   "cell_type": "code",
   "execution_count": null,
   "id": "dac700fe",
   "metadata": {},
   "outputs": [],
   "source": []
  },
  {
   "cell_type": "code",
   "execution_count": null,
   "id": "457f0984",
   "metadata": {},
   "outputs": [],
   "source": []
  }
 ],
 "metadata": {
  "kernelspec": {
   "display_name": "Python 3 (ipykernel)",
   "language": "python",
   "name": "python3"
  },
  "language_info": {
   "codemirror_mode": {
    "name": "ipython",
    "version": 3
   },
   "file_extension": ".py",
   "mimetype": "text/x-python",
   "name": "python",
   "nbconvert_exporter": "python",
   "pygments_lexer": "ipython3",
   "version": "3.10.12"
  }
 },
 "nbformat": 4,
 "nbformat_minor": 5
}
